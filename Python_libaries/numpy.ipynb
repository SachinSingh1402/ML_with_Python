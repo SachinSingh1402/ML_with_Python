{
 "cells": [
  {
   "cell_type": "markdown",
   "metadata": {},
   "source": [
    "# NumPy - Numerical Python"
   ]
  },
  {
   "cell_type": "markdown",
   "metadata": {},
   "source": [
    "\n",
    "Advantages of Numpy Arrays:\n",
    "\n",
    "  1. Allows several Mathematical Operations\n",
    "  2. Faster operations"
   ]
  },
  {
   "cell_type": "code",
   "execution_count": 1,
   "metadata": {},
   "outputs": [
    {
     "name": "stdout",
     "output_type": "stream",
     "text": [
      "Collecting numpy\n",
      "  Downloading numpy-2.0.0-cp311-cp311-win_amd64.whl.metadata (60 kB)\n",
      "     ---------------------------------------- 0.0/60.9 kB ? eta -:--:--\n",
      "     ------ --------------------------------- 10.2/60.9 kB ? eta -:--:--\n",
      "     ------------ ------------------------- 20.5/60.9 kB 165.2 kB/s eta 0:00:01\n",
      "     ------------------------- ------------ 41.0/60.9 kB 281.8 kB/s eta 0:00:01\n",
      "     ------------------------------- ------ 51.2/60.9 kB 292.6 kB/s eta 0:00:01\n",
      "     -------------------------------------- 60.9/60.9 kB 249.5 kB/s eta 0:00:00\n",
      "Downloading numpy-2.0.0-cp311-cp311-win_amd64.whl (16.5 MB)\n",
      "   ---------------------------------------- 0.0/16.5 MB ? eta -:--:--\n",
      "   ---------------------------------------- 0.0/16.5 MB 2.0 MB/s eta 0:00:09\n",
      "   ---------------------------------------- 0.1/16.5 MB 1.3 MB/s eta 0:00:13\n",
      "   ---------------------------------------- 0.1/16.5 MB 901.1 kB/s eta 0:00:19\n",
      "    --------------------------------------- 0.2/16.5 MB 1.1 MB/s eta 0:00:15\n",
      "    --------------------------------------- 0.3/16.5 MB 1.1 MB/s eta 0:00:15\n",
      "    --------------------------------------- 0.4/16.5 MB 1.2 MB/s eta 0:00:14\n",
      "   - -------------------------------------- 0.5/16.5 MB 1.3 MB/s eta 0:00:13\n",
      "   - -------------------------------------- 0.5/16.5 MB 1.3 MB/s eta 0:00:12\n",
      "   - -------------------------------------- 0.6/16.5 MB 1.5 MB/s eta 0:00:11\n",
      "   - -------------------------------------- 0.7/16.5 MB 1.5 MB/s eta 0:00:11\n",
      "   - -------------------------------------- 0.8/16.5 MB 1.5 MB/s eta 0:00:11\n",
      "   -- ------------------------------------- 0.9/16.5 MB 1.5 MB/s eta 0:00:11\n",
      "   -- ------------------------------------- 1.0/16.5 MB 1.6 MB/s eta 0:00:10\n",
      "   -- ------------------------------------- 1.1/16.5 MB 1.6 MB/s eta 0:00:10\n",
      "   -- ------------------------------------- 1.1/16.5 MB 1.6 MB/s eta 0:00:10\n",
      "   -- ------------------------------------- 1.2/16.5 MB 1.6 MB/s eta 0:00:10\n",
      "   --- ------------------------------------ 1.3/16.5 MB 1.6 MB/s eta 0:00:10\n",
      "   --- ------------------------------------ 1.4/16.5 MB 1.6 MB/s eta 0:00:10\n",
      "   --- ------------------------------------ 1.5/16.5 MB 1.6 MB/s eta 0:00:10\n",
      "   --- ------------------------------------ 1.6/16.5 MB 1.7 MB/s eta 0:00:09\n",
      "   ---- ----------------------------------- 1.8/16.5 MB 1.8 MB/s eta 0:00:09\n",
      "   ---- ----------------------------------- 1.9/16.5 MB 1.8 MB/s eta 0:00:09\n",
      "   ---- ----------------------------------- 1.9/16.5 MB 1.7 MB/s eta 0:00:09\n",
      "   ----- ---------------------------------- 2.1/16.5 MB 1.8 MB/s eta 0:00:09\n",
      "   ----- ---------------------------------- 2.2/16.5 MB 1.8 MB/s eta 0:00:08\n",
      "   ----- ---------------------------------- 2.3/16.5 MB 1.8 MB/s eta 0:00:08\n",
      "   ------ --------------------------------- 2.5/16.5 MB 1.9 MB/s eta 0:00:08\n",
      "   ------ --------------------------------- 2.6/16.5 MB 1.9 MB/s eta 0:00:08\n",
      "   ------ --------------------------------- 2.8/16.5 MB 2.0 MB/s eta 0:00:08\n",
      "   ------- -------------------------------- 3.0/16.5 MB 2.0 MB/s eta 0:00:07\n",
      "   ------- -------------------------------- 3.1/16.5 MB 2.0 MB/s eta 0:00:07\n",
      "   ------- -------------------------------- 3.3/16.5 MB 2.1 MB/s eta 0:00:07\n",
      "   -------- ------------------------------- 3.4/16.5 MB 2.1 MB/s eta 0:00:07\n",
      "   -------- ------------------------------- 3.5/16.5 MB 2.1 MB/s eta 0:00:07\n",
      "   -------- ------------------------------- 3.7/16.5 MB 2.2 MB/s eta 0:00:06\n",
      "   --------- ------------------------------ 3.9/16.5 MB 2.2 MB/s eta 0:00:06\n",
      "   --------- ------------------------------ 4.1/16.5 MB 2.3 MB/s eta 0:00:06\n",
      "   ---------- ----------------------------- 4.2/16.5 MB 2.3 MB/s eta 0:00:06\n",
      "   ---------- ----------------------------- 4.5/16.5 MB 2.4 MB/s eta 0:00:06\n",
      "   ----------- ---------------------------- 4.7/16.5 MB 2.4 MB/s eta 0:00:05\n",
      "   ----------- ---------------------------- 4.9/16.5 MB 2.5 MB/s eta 0:00:05\n",
      "   ------------ --------------------------- 5.1/16.5 MB 2.5 MB/s eta 0:00:05\n",
      "   ------------ --------------------------- 5.4/16.5 MB 2.6 MB/s eta 0:00:05\n",
      "   ------------- -------------------------- 5.4/16.5 MB 2.5 MB/s eta 0:00:05\n",
      "   ------------- -------------------------- 5.7/16.5 MB 2.6 MB/s eta 0:00:05\n",
      "   -------------- ------------------------- 5.8/16.5 MB 2.6 MB/s eta 0:00:05\n",
      "   -------------- ------------------------- 6.0/16.5 MB 2.6 MB/s eta 0:00:05\n",
      "   -------------- ------------------------- 6.2/16.5 MB 2.7 MB/s eta 0:00:04\n",
      "   --------------- ------------------------ 6.5/16.5 MB 2.7 MB/s eta 0:00:04\n",
      "   ---------------- ----------------------- 6.7/16.5 MB 2.7 MB/s eta 0:00:04\n",
      "   ----------------- ---------------------- 7.0/16.5 MB 2.8 MB/s eta 0:00:04\n",
      "   ----------------- ---------------------- 7.3/16.5 MB 2.9 MB/s eta 0:00:04\n",
      "   ------------------ --------------------- 7.6/16.5 MB 2.9 MB/s eta 0:00:04\n",
      "   ------------------- -------------------- 7.9/16.5 MB 3.0 MB/s eta 0:00:03\n",
      "   ------------------- -------------------- 8.0/16.5 MB 3.0 MB/s eta 0:00:03\n",
      "   ------------------- -------------------- 8.3/16.5 MB 3.0 MB/s eta 0:00:03\n",
      "   -------------------- ------------------- 8.6/16.5 MB 3.1 MB/s eta 0:00:03\n",
      "   --------------------- ------------------ 8.9/16.5 MB 3.1 MB/s eta 0:00:03\n",
      "   ---------------------- ----------------- 9.2/16.5 MB 3.2 MB/s eta 0:00:03\n",
      "   ---------------------- ----------------- 9.4/16.5 MB 3.2 MB/s eta 0:00:03\n",
      "   ----------------------- ---------------- 9.8/16.5 MB 3.3 MB/s eta 0:00:03\n",
      "   ------------------------ --------------- 10.1/16.5 MB 3.3 MB/s eta 0:00:02\n",
      "   ------------------------- -------------- 10.4/16.5 MB 3.5 MB/s eta 0:00:02\n",
      "   ------------------------- -------------- 10.7/16.5 MB 3.7 MB/s eta 0:00:02\n",
      "   -------------------------- ------------- 11.0/16.5 MB 3.8 MB/s eta 0:00:02\n",
      "   --------------------------- ------------ 11.3/16.5 MB 4.0 MB/s eta 0:00:02\n",
      "   ---------------------------- ----------- 11.6/16.5 MB 4.2 MB/s eta 0:00:02\n",
      "   ----------------------------- ---------- 12.0/16.5 MB 4.4 MB/s eta 0:00:02\n",
      "   ----------------------------- ---------- 12.3/16.5 MB 4.6 MB/s eta 0:00:01\n",
      "   ------------------------------ --------- 12.6/16.5 MB 4.7 MB/s eta 0:00:01\n",
      "   ------------------------------- -------- 13.0/16.5 MB 4.9 MB/s eta 0:00:01\n",
      "   -------------------------------- ------- 13.3/16.5 MB 5.0 MB/s eta 0:00:01\n",
      "   --------------------------------- ------ 13.7/16.5 MB 5.2 MB/s eta 0:00:01\n",
      "   --------------------------------- ------ 13.9/16.5 MB 5.2 MB/s eta 0:00:01\n",
      "   ----------------------------------- ---- 14.5/16.5 MB 5.5 MB/s eta 0:00:01\n",
      "   ------------------------------------ --- 14.9/16.5 MB 5.6 MB/s eta 0:00:01\n",
      "   ------------------------------------ --- 15.2/16.5 MB 5.7 MB/s eta 0:00:01\n",
      "   ------------------------------------- -- 15.5/16.5 MB 5.8 MB/s eta 0:00:01\n",
      "   -------------------------------------- - 16.0/16.5 MB 6.0 MB/s eta 0:00:01\n",
      "   ---------------------------------------  16.3/16.5 MB 6.2 MB/s eta 0:00:01\n",
      "   ---------------------------------------  16.5/16.5 MB 6.2 MB/s eta 0:00:01\n",
      "   ---------------------------------------  16.5/16.5 MB 6.2 MB/s eta 0:00:01\n",
      "   ---------------------------------------  16.5/16.5 MB 6.2 MB/s eta 0:00:01\n",
      "   ---------------------------------------- 16.5/16.5 MB 5.8 MB/s eta 0:00:00\n",
      "Installing collected packages: numpy\n",
      "Successfully installed numpy-2.0.0\n",
      "Note: you may need to restart the kernel to use updated packages.\n"
     ]
    }
   ],
   "source": [
    "pip install numpy"
   ]
  },
  {
   "cell_type": "code",
   "execution_count": 2,
   "metadata": {},
   "outputs": [],
   "source": [
    "import numpy as np"
   ]
  },
  {
   "cell_type": "markdown",
   "metadata": {},
   "source": [
    "List vs Numpy - Time Taken"
   ]
  },
  {
   "cell_type": "code",
   "execution_count": 3,
   "metadata": {},
   "outputs": [],
   "source": [
    "from time import process_time"
   ]
  },
  {
   "cell_type": "markdown",
   "metadata": {},
   "source": [
    "Time taken by a list"
   ]
  },
  {
   "cell_type": "code",
   "execution_count": 4,
   "metadata": {},
   "outputs": [
    {
     "name": "stdout",
     "output_type": "stream",
     "text": [
      "0.0\n"
     ]
    }
   ],
   "source": [
    "python_list = [i for i in range(10000)]\n",
    "\n",
    "start_time = process_time()\n",
    "\n",
    "python_list = [i+5 for i in python_list]\n",
    "\n",
    "end_time = process_time()\n",
    "\n",
    "print(end_time - start_time)"
   ]
  },
  {
   "cell_type": "code",
   "execution_count": 5,
   "metadata": {},
   "outputs": [
    {
     "name": "stdout",
     "output_type": "stream",
     "text": [
      "0.0\n"
     ]
    }
   ],
   "source": [
    "np_array = np.array([i for i in range(10000)])\n",
    "\n",
    "start_time = process_time()\n",
    "\n",
    "np_array += 5\n",
    "\n",
    "end_time = process_time()\n",
    "\n",
    "print(end_time - start_time)"
   ]
  },
  {
   "cell_type": "markdown",
   "metadata": {},
   "source": [
    "Numpy Array"
   ]
  },
  {
   "cell_type": "code",
   "execution_count": 8,
   "metadata": {},
   "outputs": [
    {
     "name": "stdout",
     "output_type": "stream",
     "text": [
      "[1, 2, 3, 4, 5]\n"
     ]
    },
    {
     "data": {
      "text/plain": [
       "list"
      ]
     },
     "execution_count": 8,
     "metadata": {},
     "output_type": "execute_result"
    }
   ],
   "source": [
    "# list\n",
    "list1 = [1,2,3,4,5]\n",
    "print(list1)\n",
    "type(list1)"
   ]
  },
  {
   "cell_type": "code",
   "execution_count": 6,
   "metadata": {},
   "outputs": [
    {
     "name": "stdout",
     "output_type": "stream",
     "text": [
      "[1 2 3 4 5]\n"
     ]
    },
    {
     "data": {
      "text/plain": [
       "numpy.ndarray"
      ]
     },
     "execution_count": 6,
     "metadata": {},
     "output_type": "execute_result"
    }
   ],
   "source": [
    "np_array = np.array([1,2,3,4,5])\n",
    "print(np_array)\n",
    "type(np_array)"
   ]
  },
  {
   "cell_type": "markdown",
   "metadata": {},
   "source": [
    "Creating one directional array\n"
   ]
  },
  {
   "cell_type": "code",
   "execution_count": 9,
   "metadata": {},
   "outputs": [
    {
     "name": "stdout",
     "output_type": "stream",
     "text": [
      "[1 2 3 4]\n"
     ]
    }
   ],
   "source": [
    "a = np.array([1,2,3,4])\n",
    "print(a)"
   ]
  },
  {
   "cell_type": "code",
   "execution_count": 10,
   "metadata": {},
   "outputs": [
    {
     "data": {
      "text/plain": [
       "(4,)"
      ]
     },
     "execution_count": 10,
     "metadata": {},
     "output_type": "execute_result"
    }
   ],
   "source": [
    "a.shape"
   ]
  },
  {
   "cell_type": "markdown",
   "metadata": {},
   "source": [
    "Creating two-directional array\n"
   ]
  },
  {
   "cell_type": "code",
   "execution_count": 11,
   "metadata": {},
   "outputs": [
    {
     "name": "stdout",
     "output_type": "stream",
     "text": [
      "[[1 2 3 4]\n",
      " [5 6 7 8]]\n"
     ]
    }
   ],
   "source": [
    "b = np.array([(1,2,3,4),(5,6,7,8)])\n",
    "print(b)"
   ]
  },
  {
   "cell_type": "code",
   "execution_count": 12,
   "metadata": {},
   "outputs": [
    {
     "data": {
      "text/plain": [
       "(2, 4)"
      ]
     },
     "execution_count": 12,
     "metadata": {},
     "output_type": "execute_result"
    }
   ],
   "source": [
    "b.shape"
   ]
  },
  {
   "cell_type": "code",
   "execution_count": 13,
   "metadata": {},
   "outputs": [
    {
     "name": "stdout",
     "output_type": "stream",
     "text": [
      "[[1. 2. 3. 4.]\n",
      " [5. 6. 7. 8.]]\n"
     ]
    }
   ],
   "source": [
    "c = np.array([(1,2,3,4),(5,6,7,8)],dtype=float)\n",
    "print(c)"
   ]
  },
  {
   "cell_type": "markdown",
   "metadata": {},
   "source": [
    "Initial Placeholders in numpy arrays"
   ]
  },
  {
   "cell_type": "code",
   "execution_count": 14,
   "metadata": {},
   "outputs": [
    {
     "name": "stdout",
     "output_type": "stream",
     "text": [
      "[[0. 0. 0. 0. 0.]\n",
      " [0. 0. 0. 0. 0.]\n",
      " [0. 0. 0. 0. 0.]\n",
      " [0. 0. 0. 0. 0.]]\n"
     ]
    }
   ],
   "source": [
    "# create a numpy array of Zeros\n",
    "x = np.zeros((4,5))\n",
    "print(x)"
   ]
  },
  {
   "cell_type": "code",
   "execution_count": 15,
   "metadata": {},
   "outputs": [
    {
     "name": "stdout",
     "output_type": "stream",
     "text": [
      "[[1. 1. 1.]\n",
      " [1. 1. 1.]\n",
      " [1. 1. 1.]]\n"
     ]
    }
   ],
   "source": [
    "# create a numpy array of ones\n",
    "y = np.ones((3,3))\n",
    "print(y)"
   ]
  },
  {
   "cell_type": "code",
   "execution_count": 16,
   "metadata": {},
   "outputs": [
    {
     "name": "stdout",
     "output_type": "stream",
     "text": [
      "[[5 5 5 5]\n",
      " [5 5 5 5]\n",
      " [5 5 5 5]\n",
      " [5 5 5 5]\n",
      " [5 5 5 5]]\n"
     ]
    }
   ],
   "source": [
    "# array of a particular value\n",
    "z = np.full((5,4),5)\n",
    "print(z)"
   ]
  },
  {
   "cell_type": "code",
   "execution_count": 17,
   "metadata": {},
   "outputs": [
    {
     "name": "stdout",
     "output_type": "stream",
     "text": [
      "[[1. 0. 0. 0. 0.]\n",
      " [0. 1. 0. 0. 0.]\n",
      " [0. 0. 1. 0. 0.]\n",
      " [0. 0. 0. 1. 0.]\n",
      " [0. 0. 0. 0. 1.]]\n"
     ]
    }
   ],
   "source": [
    "# create an identity matrix\n",
    "a = np.eye(5)\n",
    "print(a)"
   ]
  },
  {
   "cell_type": "code",
   "execution_count": 18,
   "metadata": {},
   "outputs": [
    {
     "name": "stdout",
     "output_type": "stream",
     "text": [
      "[[0.62341789 0.82333723 0.97818102 0.34494577]\n",
      " [0.25565473 0.32471423 0.57247059 0.22395689]\n",
      " [0.12505914 0.23262679 0.62693034 0.35704348]]\n"
     ]
    }
   ],
   "source": [
    "# create a numpy array with random values\n",
    "b = np.random.random((3,4))\n",
    "print(b)"
   ]
  },
  {
   "cell_type": "code",
   "execution_count": 19,
   "metadata": {},
   "outputs": [
    {
     "name": "stdout",
     "output_type": "stream",
     "text": [
      "[[72 55 27 56 41]\n",
      " [58 78 12 94 64]\n",
      " [80 63 22 80 17]]\n"
     ]
    }
   ],
   "source": [
    "# random integer values array within a specific range\n",
    "c = np.random.randint(10,100,(3,5))\n",
    "print(c)"
   ]
  },
  {
   "cell_type": "code",
   "execution_count": 20,
   "metadata": {},
   "outputs": [
    {
     "name": "stdout",
     "output_type": "stream",
     "text": [
      "[10. 15. 20. 25. 30.]\n"
     ]
    }
   ],
   "source": [
    "# array of evenly spaced values --> specifying the number of values required\n",
    "d = np.linspace(10,30,5)\n",
    "print(d)"
   ]
  },
  {
   "cell_type": "code",
   "execution_count": 21,
   "metadata": {},
   "outputs": [
    {
     "name": "stdout",
     "output_type": "stream",
     "text": [
      "[10 15 20 25]\n"
     ]
    }
   ],
   "source": [
    "# array of evenly spaced values --> specifying the step\n",
    "e = np.arange(10,30,5)\n",
    "print(e)"
   ]
  },
  {
   "cell_type": "code",
   "execution_count": 22,
   "metadata": {},
   "outputs": [
    {
     "name": "stdout",
     "output_type": "stream",
     "text": [
      "[10 20 20 20 50]\n"
     ]
    },
    {
     "data": {
      "text/plain": [
       "numpy.ndarray"
      ]
     },
     "execution_count": 22,
     "metadata": {},
     "output_type": "execute_result"
    }
   ],
   "source": [
    "# convert a list to a numpy array\n",
    "list2 = [10,20,20,20,50]\n",
    "\n",
    "np_array = np.asarray(list2)\n",
    "print(np_array)\n",
    "type(np_array)"
   ]
  },
  {
   "cell_type": "markdown",
   "metadata": {},
   "source": [
    "*Analysing* a numpy array"
   ]
  },
  {
   "cell_type": "code",
   "execution_count": 24,
   "metadata": {},
   "outputs": [
    {
     "name": "stdout",
     "output_type": "stream",
     "text": [
      "[[31 76 43 73 63]\n",
      " [82 12 17 45 67]\n",
      " [86 20 37 58 50]\n",
      " [29 38 52 48 82]\n",
      " [16 78 84 48 38]]\n"
     ]
    }
   ],
   "source": [
    "c = np.random.randint(10,90,(5,5))\n",
    "print(c)"
   ]
  },
  {
   "cell_type": "code",
   "execution_count": 25,
   "metadata": {},
   "outputs": [
    {
     "name": "stdout",
     "output_type": "stream",
     "text": [
      "(5, 5)\n"
     ]
    }
   ],
   "source": [
    "# array dimension\n",
    "print(c.shape)"
   ]
  },
  {
   "cell_type": "code",
   "execution_count": 26,
   "metadata": {},
   "outputs": [
    {
     "name": "stdout",
     "output_type": "stream",
     "text": [
      "2\n"
     ]
    }
   ],
   "source": [
    "# number of dimensions\n",
    "print(c.ndim)"
   ]
  },
  {
   "cell_type": "code",
   "execution_count": 27,
   "metadata": {},
   "outputs": [
    {
     "name": "stdout",
     "output_type": "stream",
     "text": [
      "25\n"
     ]
    }
   ],
   "source": [
    "# number of elements in an array\n",
    "print(c.size)"
   ]
  },
  {
   "cell_type": "code",
   "execution_count": 28,
   "metadata": {},
   "outputs": [
    {
     "name": "stdout",
     "output_type": "stream",
     "text": [
      "int32\n"
     ]
    }
   ],
   "source": [
    "# checking the data type of the values in the array\n",
    "print(c.dtype)"
   ]
  },
  {
   "cell_type": "markdown",
   "metadata": {},
   "source": [
    "Mathematical operations on a np array\n"
   ]
  },
  {
   "cell_type": "code",
   "execution_count": 29,
   "metadata": {},
   "outputs": [
    {
     "name": "stdout",
     "output_type": "stream",
     "text": [
      "[1, 2, 3, 4, 5, 6, 7, 8, 9, 10]\n"
     ]
    }
   ],
   "source": [
    "list1 = [1,2,3,4,5]\n",
    "list2 = [6,7,8,9,10]\n",
    "\n",
    "print(list1 + list2)    # concatenate or joins two list"
   ]
  },
  {
   "cell_type": "code",
   "execution_count": 30,
   "metadata": {},
   "outputs": [],
   "source": [
    "a = np.random.randint(0,10,(3,3))\n",
    "b = np.random.randint(10,20,(3,3))"
   ]
  },
  {
   "cell_type": "code",
   "execution_count": 31,
   "metadata": {},
   "outputs": [
    {
     "name": "stdout",
     "output_type": "stream",
     "text": [
      "[[1 6 1]\n",
      " [3 6 9]\n",
      " [4 5 3]]\n",
      "[[18 10 16]\n",
      " [19 16 14]\n",
      " [16 15 10]]\n"
     ]
    }
   ],
   "source": [
    "print(a)\n",
    "print(b)"
   ]
  },
  {
   "cell_type": "code",
   "execution_count": 32,
   "metadata": {},
   "outputs": [
    {
     "name": "stdout",
     "output_type": "stream",
     "text": [
      "[[19 16 17]\n",
      " [22 22 23]\n",
      " [20 20 13]]\n",
      "[[-17  -4 -15]\n",
      " [-16 -10  -5]\n",
      " [-12 -10  -7]]\n",
      "[[ 18  60  16]\n",
      " [ 57  96 126]\n",
      " [ 64  75  30]]\n",
      "[[0.05555556 0.6        0.0625    ]\n",
      " [0.15789474 0.375      0.64285714]\n",
      " [0.25       0.33333333 0.3       ]]\n"
     ]
    }
   ],
   "source": [
    "print(a+b)\n",
    "print(a-b)\n",
    "print(a*b)\n",
    "print(a/b)"
   ]
  },
  {
   "cell_type": "code",
   "execution_count": 33,
   "metadata": {},
   "outputs": [],
   "source": [
    "a = np.random.randint(0,10,(3,3))\n",
    "b = np.random.randint(10,20,(3,3))"
   ]
  },
  {
   "cell_type": "code",
   "execution_count": 34,
   "metadata": {},
   "outputs": [
    {
     "name": "stdout",
     "output_type": "stream",
     "text": [
      "[[6 4 3]\n",
      " [5 0 4]\n",
      " [6 6 5]]\n",
      "[[15 17 14]\n",
      " [13 12 10]\n",
      " [19 15 16]]\n"
     ]
    }
   ],
   "source": [
    "print(a)\n",
    "print(b)"
   ]
  },
  {
   "cell_type": "code",
   "execution_count": 35,
   "metadata": {},
   "outputs": [
    {
     "name": "stdout",
     "output_type": "stream",
     "text": [
      "[[21 21 17]\n",
      " [18 12 14]\n",
      " [25 21 21]]\n",
      "[[ -9 -13 -11]\n",
      " [ -8 -12  -6]\n",
      " [-13  -9 -11]]\n",
      "[[ 90  68  42]\n",
      " [ 65   0  40]\n",
      " [114  90  80]]\n",
      "[[0.4        0.23529412 0.21428571]\n",
      " [0.38461538 0.         0.4       ]\n",
      " [0.31578947 0.4        0.3125    ]]\n"
     ]
    }
   ],
   "source": [
    "print(np.add(a,b))\n",
    "print(np.subtract(a,b))\n",
    "print(np.multiply(a,b))\n",
    "print(np.divide(a,b))"
   ]
  },
  {
   "cell_type": "markdown",
   "metadata": {},
   "source": [
    "Array Manipulation"
   ]
  },
  {
   "cell_type": "code",
   "execution_count": 36,
   "metadata": {},
   "outputs": [
    {
     "name": "stdout",
     "output_type": "stream",
     "text": [
      "[[9 3 7]\n",
      " [2 6 6]]\n",
      "(2, 3)\n"
     ]
    }
   ],
   "source": [
    "array = np.random.randint(0,10,(2,3))\n",
    "print(array)\n",
    "print(array.shape)"
   ]
  },
  {
   "cell_type": "code",
   "execution_count": 37,
   "metadata": {},
   "outputs": [
    {
     "name": "stdout",
     "output_type": "stream",
     "text": [
      "[[9 2]\n",
      " [3 6]\n",
      " [7 6]]\n",
      "(3, 2)\n"
     ]
    }
   ],
   "source": [
    "# transpose\n",
    "trans = np.transpose(array)\n",
    "print(trans)\n",
    "print(trans.shape)"
   ]
  },
  {
   "cell_type": "code",
   "execution_count": 38,
   "metadata": {},
   "outputs": [
    {
     "name": "stdout",
     "output_type": "stream",
     "text": [
      "[[7 1 8]\n",
      " [5 7 6]]\n",
      "(2, 3)\n"
     ]
    }
   ],
   "source": [
    "array = np.random.randint(0,10,(2,3))\n",
    "print(array)\n",
    "print(array.shape)"
   ]
  },
  {
   "cell_type": "code",
   "execution_count": 39,
   "metadata": {},
   "outputs": [
    {
     "name": "stdout",
     "output_type": "stream",
     "text": [
      "[[7 5]\n",
      " [1 7]\n",
      " [8 6]]\n",
      "(3, 2)\n"
     ]
    }
   ],
   "source": [
    "trans2 = array.T\n",
    "print(trans2)\n",
    "print(trans2.shape)"
   ]
  },
  {
   "cell_type": "code",
   "execution_count": 40,
   "metadata": {},
   "outputs": [
    {
     "name": "stdout",
     "output_type": "stream",
     "text": [
      "[[4 2 3]\n",
      " [0 1 9]]\n",
      "(2, 3)\n"
     ]
    }
   ],
   "source": [
    "# reshaping a array\n",
    "a = np.random.randint(0,10,(2,3))\n",
    "print(a)\n",
    "print(a.shape)"
   ]
  },
  {
   "cell_type": "code",
   "execution_count": 41,
   "metadata": {},
   "outputs": [
    {
     "name": "stdout",
     "output_type": "stream",
     "text": [
      "[[4 2]\n",
      " [3 0]\n",
      " [1 9]]\n",
      "(3, 2)\n"
     ]
    }
   ],
   "source": [
    "b = a.reshape(3,2)\n",
    "print(b)\n",
    "print(b.shape)"
   ]
  }
 ],
 "metadata": {
  "kernelspec": {
   "display_name": "Python 3",
   "language": "python",
   "name": "python3"
  },
  "language_info": {
   "codemirror_mode": {
    "name": "ipython",
    "version": 3
   },
   "file_extension": ".py",
   "mimetype": "text/x-python",
   "name": "python",
   "nbconvert_exporter": "python",
   "pygments_lexer": "ipython3",
   "version": "3.11.9"
  }
 },
 "nbformat": 4,
 "nbformat_minor": 2
}
