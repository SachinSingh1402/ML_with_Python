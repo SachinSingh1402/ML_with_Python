{
 "cells": [
  {
   "cell_type": "markdown",
   "metadata": {},
   "source": [
    "Installing the dependencies"
   ]
  },
  {
   "cell_type": "code",
   "execution_count": 11,
   "metadata": {},
   "outputs": [
    {
     "name": "stdout",
     "output_type": "stream",
     "text": [
      "Requirement already satisfied: fastapi in c:\\users\\sachi\\appdata\\local\\programs\\python\\python38\\lib\\site-packages (0.115.6)\n",
      "Requirement already satisfied: starlette<0.42.0,>=0.40.0 in c:\\users\\sachi\\appdata\\local\\programs\\python\\python38\\lib\\site-packages (from fastapi) (0.41.3)\n",
      "Requirement already satisfied: pydantic!=1.8,!=1.8.1,!=2.0.0,!=2.0.1,!=2.1.0,<3.0.0,>=1.7.4 in c:\\users\\sachi\\appdata\\local\\programs\\python\\python38\\lib\\site-packages (from fastapi) (2.10.3)\n",
      "Requirement already satisfied: typing-extensions>=4.8.0 in c:\\users\\sachi\\appdata\\roaming\\python\\python38\\site-packages (from fastapi) (4.12.2)\n",
      "Requirement already satisfied: annotated-types>=0.6.0 in c:\\users\\sachi\\appdata\\local\\programs\\python\\python38\\lib\\site-packages (from pydantic!=1.8,!=1.8.1,!=2.0.0,!=2.0.1,!=2.1.0,<3.0.0,>=1.7.4->fastapi) (0.7.0)\n",
      "Requirement already satisfied: pydantic-core==2.27.1 in c:\\users\\sachi\\appdata\\local\\programs\\python\\python38\\lib\\site-packages (from pydantic!=1.8,!=1.8.1,!=2.0.0,!=2.0.1,!=2.1.0,<3.0.0,>=1.7.4->fastapi) (2.27.1)\n",
      "Requirement already satisfied: anyio<5,>=3.4.0 in c:\\users\\sachi\\appdata\\local\\programs\\python\\python38\\lib\\site-packages (from starlette<0.42.0,>=0.40.0->fastapi) (4.4.0)\n",
      "Requirement already satisfied: idna>=2.8 in c:\\users\\sachi\\appdata\\local\\programs\\python\\python38\\lib\\site-packages (from anyio<5,>=3.4.0->starlette<0.42.0,>=0.40.0->fastapi) (3.10)\n",
      "Requirement already satisfied: sniffio>=1.1 in c:\\users\\sachi\\appdata\\local\\programs\\python\\python38\\lib\\site-packages (from anyio<5,>=3.4.0->starlette<0.42.0,>=0.40.0->fastapi) (1.3.1)\n",
      "Requirement already satisfied: exceptiongroup>=1.0.2 in c:\\users\\sachi\\appdata\\local\\programs\\python\\python38\\lib\\site-packages (from anyio<5,>=3.4.0->starlette<0.42.0,>=0.40.0->fastapi) (1.2.2)\n",
      "Requirement already satisfied: uvicorn in c:\\users\\sachi\\appdata\\local\\programs\\python\\python38\\lib\\site-packages (0.32.1)\n",
      "Requirement already satisfied: click>=7.0 in c:\\users\\sachi\\appdata\\local\\programs\\python\\python38\\lib\\site-packages (from uvicorn) (8.1.7)\n",
      "Requirement already satisfied: h11>=0.8 in c:\\users\\sachi\\appdata\\local\\programs\\python\\python38\\lib\\site-packages (from uvicorn) (0.14.0)\n",
      "Requirement already satisfied: typing-extensions>=4.0 in c:\\users\\sachi\\appdata\\roaming\\python\\python38\\site-packages (from uvicorn) (4.12.2)\n",
      "Requirement already satisfied: colorama in c:\\users\\sachi\\appdata\\roaming\\python\\python38\\site-packages (from click>=7.0->uvicorn) (0.4.6)\n",
      "Collecting pickle5\n",
      "  Using cached pickle5-0.0.11.tar.gz (132 kB)\n",
      "  Installing build dependencies: started\n",
      "  Installing build dependencies: finished with status 'done'\n",
      "  Getting requirements to build wheel: started\n",
      "  Getting requirements to build wheel: finished with status 'done'\n",
      "  Preparing metadata (pyproject.toml): started\n",
      "  Preparing metadata (pyproject.toml): finished with status 'done'\n",
      "Building wheels for collected packages: pickle5\n",
      "  Building wheel for pickle5 (pyproject.toml): started\n",
      "  Building wheel for pickle5 (pyproject.toml): finished with status 'error'\n",
      "Failed to build pickle5\n"
     ]
    },
    {
     "name": "stderr",
     "output_type": "stream",
     "text": [
      "  error: subprocess-exited-with-error\n",
      "  \n",
      "  × Building wheel for pickle5 (pyproject.toml) did not run successfully.\n",
      "  │ exit code: 1\n",
      "  ╰─> [15 lines of output]\n",
      "      running bdist_wheel\n",
      "      running build\n",
      "      running build_py\n",
      "      creating build\\lib.win-amd64-cpython-38\\pickle5\n",
      "      copying pickle5\\pickle.py -> build\\lib.win-amd64-cpython-38\\pickle5\n",
      "      copying pickle5\\pickletools.py -> build\\lib.win-amd64-cpython-38\\pickle5\n",
      "      copying pickle5\\__init__.py -> build\\lib.win-amd64-cpython-38\\pickle5\n",
      "      creating build\\lib.win-amd64-cpython-38\\pickle5\\test\n",
      "      copying pickle5\\test\\pickletester.py -> build\\lib.win-amd64-cpython-38\\pickle5\\test\n",
      "      copying pickle5\\test\\test_pickle.py -> build\\lib.win-amd64-cpython-38\\pickle5\\test\n",
      "      copying pickle5\\test\\test_picklebuffer.py -> build\\lib.win-amd64-cpython-38\\pickle5\\test\n",
      "      copying pickle5\\test\\__init__.py -> build\\lib.win-amd64-cpython-38\\pickle5\\test\n",
      "      running build_ext\n",
      "      building 'pickle5._pickle' extension\n",
      "      error: Microsoft Visual C++ 14.0 or greater is required. Get it with \"Microsoft C++ Build Tools\": https://visualstudio.microsoft.com/visual-cpp-build-tools/\n",
      "      [end of output]\n",
      "  \n",
      "  note: This error originates from a subprocess, and is likely not a problem with pip.\n",
      "  ERROR: Failed building wheel for pickle5\n",
      "ERROR: ERROR: Failed to build installable wheels for some pyproject.toml based projects (pickle5)\n"
     ]
    },
    {
     "name": "stdout",
     "output_type": "stream",
     "text": [
      "Requirement already satisfied: pydantic in c:\\users\\sachi\\appdata\\local\\programs\\python\\python38\\lib\\site-packages (2.10.3)\n",
      "Requirement already satisfied: annotated-types>=0.6.0 in c:\\users\\sachi\\appdata\\local\\programs\\python\\python38\\lib\\site-packages (from pydantic) (0.7.0)\n",
      "Requirement already satisfied: pydantic-core==2.27.1 in c:\\users\\sachi\\appdata\\local\\programs\\python\\python38\\lib\\site-packages (from pydantic) (2.27.1)\n",
      "Requirement already satisfied: typing-extensions>=4.12.2 in c:\\users\\sachi\\appdata\\roaming\\python\\python38\\site-packages (from pydantic) (4.12.2)\n",
      "Requirement already satisfied: scikit-learn in c:\\users\\sachi\\appdata\\local\\programs\\python\\python38\\lib\\site-packages (1.3.2)\n",
      "Requirement already satisfied: numpy<2.0,>=1.17.3 in c:\\users\\sachi\\appdata\\local\\programs\\python\\python38\\lib\\site-packages (from scikit-learn) (1.24.4)\n",
      "Requirement already satisfied: scipy>=1.5.0 in c:\\users\\sachi\\appdata\\local\\programs\\python\\python38\\lib\\site-packages (from scikit-learn) (1.10.1)\n",
      "Requirement already satisfied: joblib>=1.1.1 in c:\\users\\sachi\\appdata\\local\\programs\\python\\python38\\lib\\site-packages (from scikit-learn) (1.4.2)\n",
      "Requirement already satisfied: threadpoolctl>=2.0.0 in c:\\users\\sachi\\appdata\\local\\programs\\python\\python38\\lib\\site-packages (from scikit-learn) (3.5.0)\n",
      "Requirement already satisfied: requests in c:\\users\\sachi\\appdata\\local\\programs\\python\\python38\\lib\\site-packages (2.32.3)\n",
      "Requirement already satisfied: charset-normalizer<4,>=2 in c:\\users\\sachi\\appdata\\local\\programs\\python\\python38\\lib\\site-packages (from requests) (3.3.2)\n",
      "Requirement already satisfied: idna<4,>=2.5 in c:\\users\\sachi\\appdata\\local\\programs\\python\\python38\\lib\\site-packages (from requests) (3.10)\n",
      "Requirement already satisfied: urllib3<3,>=1.21.1 in c:\\users\\sachi\\appdata\\local\\programs\\python\\python38\\lib\\site-packages (from requests) (2.2.3)\n",
      "Requirement already satisfied: certifi>=2017.4.17 in c:\\users\\sachi\\appdata\\local\\programs\\python\\python38\\lib\\site-packages (from requests) (2024.8.30)\n",
      "Requirement already satisfied: pypi-json in c:\\users\\sachi\\appdata\\local\\programs\\python\\python38\\lib\\site-packages (0.4.0)\n",
      "Requirement already satisfied: apeye>=1.1.0 in c:\\users\\sachi\\appdata\\local\\programs\\python\\python38\\lib\\site-packages (from pypi-json) (1.4.1)\n",
      "Requirement already satisfied: packaging>=21.0 in c:\\users\\sachi\\appdata\\roaming\\python\\python38\\site-packages (from pypi-json) (24.1)\n",
      "Requirement already satisfied: requests>=2.26.0 in c:\\users\\sachi\\appdata\\local\\programs\\python\\python38\\lib\\site-packages (from pypi-json) (2.32.3)\n",
      "Requirement already satisfied: apeye-core>=1.0.0b2 in c:\\users\\sachi\\appdata\\local\\programs\\python\\python38\\lib\\site-packages (from apeye>=1.1.0->pypi-json) (1.1.5)\n",
      "Requirement already satisfied: domdf-python-tools>=2.6.0 in c:\\users\\sachi\\appdata\\local\\programs\\python\\python38\\lib\\site-packages (from apeye>=1.1.0->pypi-json) (3.9.0)\n",
      "Requirement already satisfied: platformdirs>=2.3.0 in c:\\users\\sachi\\appdata\\roaming\\python\\python38\\site-packages (from apeye>=1.1.0->pypi-json) (4.3.6)\n",
      "Requirement already satisfied: charset-normalizer<4,>=2 in c:\\users\\sachi\\appdata\\local\\programs\\python\\python38\\lib\\site-packages (from requests>=2.26.0->pypi-json) (3.3.2)\n",
      "Requirement already satisfied: idna<4,>=2.5 in c:\\users\\sachi\\appdata\\local\\programs\\python\\python38\\lib\\site-packages (from requests>=2.26.0->pypi-json) (3.10)\n",
      "Requirement already satisfied: urllib3<3,>=1.21.1 in c:\\users\\sachi\\appdata\\local\\programs\\python\\python38\\lib\\site-packages (from requests>=2.26.0->pypi-json) (2.2.3)\n",
      "Requirement already satisfied: certifi>=2017.4.17 in c:\\users\\sachi\\appdata\\local\\programs\\python\\python38\\lib\\site-packages (from requests>=2.26.0->pypi-json) (2024.8.30)\n",
      "Requirement already satisfied: natsort>=7.0.1 in c:\\users\\sachi\\appdata\\local\\programs\\python\\python38\\lib\\site-packages (from domdf-python-tools>=2.6.0->apeye>=1.1.0->pypi-json) (8.4.0)\n",
      "Requirement already satisfied: typing-extensions>=3.7.4.1 in c:\\users\\sachi\\appdata\\roaming\\python\\python38\\site-packages (from domdf-python-tools>=2.6.0->apeye>=1.1.0->pypi-json) (4.12.2)\n",
      "Requirement already satisfied: importlib-metadata>=3.6.0 in c:\\users\\sachi\\appdata\\roaming\\python\\python38\\site-packages (from domdf-python-tools>=2.6.0->apeye>=1.1.0->pypi-json) (8.5.0)\n",
      "Requirement already satisfied: importlib-resources>=3.0.0 in c:\\users\\sachi\\appdata\\local\\programs\\python\\python38\\lib\\site-packages (from domdf-python-tools>=2.6.0->apeye>=1.1.0->pypi-json) (6.4.5)\n",
      "Requirement already satisfied: zipp>=3.20 in c:\\users\\sachi\\appdata\\roaming\\python\\python38\\site-packages (from importlib-metadata>=3.6.0->domdf-python-tools>=2.6.0->apeye>=1.1.0->pypi-json) (3.20.2)\n"
     ]
    },
    {
     "name": "stderr",
     "output_type": "stream",
     "text": [
      "ERROR: Invalid requirement: '#': Expected package name at the start of dependency specifier\n",
      "    #\n",
      "    ^\n"
     ]
    },
    {
     "name": "stdout",
     "output_type": "stream",
     "text": [
      "Requirement already satisfied: pyngrok in c:\\users\\sachi\\appdata\\local\\programs\\python\\python38\\lib\\site-packages (7.2.1)\n",
      "Requirement already satisfied: PyYAML>=5.1 in c:\\users\\sachi\\appdata\\local\\programs\\python\\python38\\lib\\site-packages (from pyngrok) (6.0.2)\n",
      "Requirement already satisfied: nest-asyncio in c:\\users\\sachi\\appdata\\roaming\\python\\python38\\site-packages (1.6.0)\n"
     ]
    }
   ],
   "source": [
    "!pip install fastapi\n",
    "!pip install uvicorn\n",
    "!pip install pickle5\n",
    "!pip install pydantic\n",
    "!pip install scikit-learn\n",
    "!pip install requests\n",
    "!pip install pypi-json\n",
    "!pip install localtunnel  # Install LocalTunnel\n",
    "!pip install pyngrok\n",
    "!pip install nest-asyncio"
   ]
  },
  {
   "cell_type": "code",
   "execution_count": 12,
   "metadata": {},
   "outputs": [],
   "source": [
    "from fastapi import FastAPI\n",
    "from pydantic import BaseModel\n",
    "import pickle\n",
    "import json\n",
    "import uvicorn\n",
    "import subprocess\n",
    "from pyngrok import ngrok\n",
    "from fastapi.middleware.cors import CORSMiddleware\n",
    "import nest_asyncio"
   ]
  },
  {
   "cell_type": "code",
   "execution_count": 13,
   "metadata": {},
   "outputs": [],
   "source": [
    "app = FastAPI()"
   ]
  },
  {
   "cell_type": "code",
   "execution_count": 14,
   "metadata": {},
   "outputs": [],
   "source": [
    "origins = [\"*\"]\n",
    "\n",
    "app.add_middleware(\n",
    "    CORSMiddleware,\n",
    "    allow_origins=origins,\n",
    "    allow_credentials=True,\n",
    "    allow_methods=[\"*\"],\n",
    "    allow_headers=[\"*\"],\n",
    ")"
   ]
  },
  {
   "cell_type": "code",
   "execution_count": 15,
   "metadata": {},
   "outputs": [],
   "source": [
    "class model_input(BaseModel):\n",
    "    \n",
    "    Pregnancies : int\n",
    "    Glucose : int\n",
    "    BloodPressure : int\n",
    "    SkinThickness : int\n",
    "    Insulin : int\n",
    "    BMI : float\n",
    "    DiabetesPedigreeFunction : float\n",
    "    Age : int"
   ]
  },
  {
   "cell_type": "code",
   "execution_count": 16,
   "metadata": {},
   "outputs": [],
   "source": [
    "# loading the saved model\n",
    "loaded_model = pickle.load(open('D:/ML_with_Python/Deployment_ML/trained_model.sav', 'rb'))"
   ]
  },
  {
   "cell_type": "code",
   "execution_count": 17,
   "metadata": {},
   "outputs": [],
   "source": [
    "@app.post('/diabetes_prediction')\n",
    "def diabetes_predd(input_parameters : model_input):\n",
    "    \n",
    "    input_data = input_parameters.json()\n",
    "    input_dictionary = json.loads(input_data)\n",
    "    \n",
    "    preg = input_dictionary['Pregnancies']\n",
    "    glu = input_dictionary['Glucose']\n",
    "    bp = input_dictionary['BloodPressure']\n",
    "    skin = input_dictionary['SkinThickness']\n",
    "    insulin = input_dictionary['Insulin']\n",
    "    bmi = input_dictionary['BMI']\n",
    "    dpf = input_dictionary['DiabetesPedigreeFunction']\n",
    "    age = input_dictionary['Age']\n",
    "    \n",
    "    \n",
    "    input_list = [preg, glu, bp, skin, insulin, bmi, dpf, age]\n",
    "    \n",
    "    prediction = loaded_model.predict([input_list])\n",
    "    \n",
    "    if prediction[0] == 0:\n",
    "        return 'The person is not diabetic'\n",
    "    else:\n",
    "        return 'The person is diabetic'"
   ]
  },
  {
   "cell_type": "code",
   "execution_count": 20,
   "metadata": {},
   "outputs": [
    {
     "name": "stderr",
     "output_type": "stream",
     "text": [
      "INFO:     Started server process [11572]\n",
      "INFO:     Waiting for application startup.\n",
      "INFO:     Application startup complete.\n",
      "INFO:     Uvicorn running on http://127.0.0.1:8000 (Press CTRL+C to quit)\n"
     ]
    },
    {
     "name": "stdout",
     "output_type": "stream",
     "text": [
      "Public URL: https://ebe6-2402-8100-27d0-4db7-f179-3775-bc99-a92.ngrok-free.app\n",
      "INFO:     2402:8100:27d0:4db7:f179:3775:bc99:a92:0 - \"GET / HTTP/1.1\" 404 Not Found\n",
      "INFO:     2402:8100:27d0:4db7:f179:3775:bc99:a92:0 - \"GET /favicon.ico HTTP/1.1\" 404 Not Found\n",
      "INFO:     2402:8100:27d0:4db7:f179:3775:bc99:a92:0 - \"POST /diabetes_prediction HTTP/1.1\" 200 OK\n"
     ]
    },
    {
     "name": "stderr",
     "output_type": "stream",
     "text": [
      "C:\\Users\\sachi\\AppData\\Local\\Temp\\ipykernel_11572\\99619241.py:4: PydanticDeprecatedSince20: The `json` method is deprecated; use `model_dump_json` instead. Deprecated in Pydantic V2.0 to be removed in V3.0. See Pydantic V2 Migration Guide at https://errors.pydantic.dev/2.10/migration/\n",
      "  input_data = input_parameters.json()\n",
      "c:\\Users\\sachi\\AppData\\Local\\Programs\\Python\\Python38\\lib\\site-packages\\sklearn\\base.py:465: UserWarning: X does not have valid feature names, but SVC was fitted with feature names\n",
      "  warnings.warn(\n",
      "INFO:     Shutting down\n",
      "INFO:     Waiting for application shutdown.\n",
      "INFO:     Application shutdown complete.\n",
      "INFO:     Finished server process [11572]\n"
     ]
    }
   ],
   "source": [
    "from pyngrok import ngrok\n",
    "import nest_asyncio\n",
    "import uvicorn\n",
    "\n",
    "# Create a tunnel to localhost:8000\n",
    "ngrok_tunnel = ngrok.connect(8000)\n",
    "print('Public URL:', ngrok_tunnel.public_url)\n",
    "\n",
    "# Resolve asyncio issues with Jupyter Notebook\n",
    "nest_asyncio.apply()\n",
    "\n",
    "# Start the app\n",
    "uvicorn.run(app, port=8000)"
   ]
  },
  {
   "cell_type": "code",
   "execution_count": null,
   "metadata": {},
   "outputs": [],
   "source": []
  }
 ],
 "metadata": {
  "kernelspec": {
   "display_name": "Python 3",
   "language": "python",
   "name": "python3"
  },
  "language_info": {
   "codemirror_mode": {
    "name": "ipython",
    "version": 3
   },
   "file_extension": ".py",
   "mimetype": "text/x-python",
   "name": "python",
   "nbconvert_exporter": "python",
   "pygments_lexer": "ipython3",
   "version": "3.8.10"
  }
 },
 "nbformat": 4,
 "nbformat_minor": 2
}
